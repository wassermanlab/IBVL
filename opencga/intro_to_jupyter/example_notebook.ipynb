{
 "cells": [
  {
   "cell_type": "markdown",
   "id": "ec97fb79",
   "metadata": {},
   "source": [
    "# This is a markdown cell, using H1\n",
    "## This is the same markdown cell, but now using H2"
   ]
  },
  {
   "cell_type": "code",
   "execution_count": 2,
   "id": "2a686ed4",
   "metadata": {},
   "outputs": [
    {
     "name": "stdout",
     "output_type": "stream",
     "text": [
      "hello world!\n"
     ]
    }
   ],
   "source": [
    "print(\"hello world!\")"
   ]
  },
  {
   "cell_type": "raw",
   "id": "6eeae1ca",
   "metadata": {},
   "source": [
    "print(\"hi\")"
   ]
  }
 ],
 "metadata": {
  "kernelspec": {
   "display_name": "Python 3 (ipykernel)",
   "language": "python",
   "name": "python3"
  },
  "language_info": {
   "codemirror_mode": {
    "name": "ipython",
    "version": 3
   },
   "file_extension": ".py",
   "mimetype": "text/x-python",
   "name": "python",
   "nbconvert_exporter": "python",
   "pygments_lexer": "ipython3",
   "version": "3.9.5"
  }
 },
 "nbformat": 4,
 "nbformat_minor": 5
}
