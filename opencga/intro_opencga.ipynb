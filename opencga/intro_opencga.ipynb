{
 "cells": [
  {
   "cell_type": "code",
   "execution_count": 1,
   "id": "75debaad-d7cb-441d-bb4d-6f927f39955f",
   "metadata": {},
   "outputs": [],
   "source": [
    "import os\n",
    "from result import *\n",
    "from pprint import pprint"
   ]
  },
  {
   "cell_type": "code",
   "execution_count": 2,
   "id": "3011b98a-d8c8-4859-a22a-6f48166ebe27",
   "metadata": {},
   "outputs": [],
   "source": [
    "from pyopencga.opencga_config import ClientConfiguration\n",
    "from pyopencga.opencga_client import OpenCGAClient"
   ]
  },
  {
   "cell_type": "markdown",
   "id": "af3897d2-42b2-4a5f-97f6-1fd078de880e",
   "metadata": {},
   "source": [
    "## Configure and Connect"
   ]
  },
  {
   "cell_type": "code",
   "execution_count": 3,
   "id": "16e34c64-be71-45ab-bd2c-14bf8d304e6d",
   "metadata": {},
   "outputs": [],
   "source": [
    "config = ClientConfiguration({\n",
    "        \"rest\": {\n",
    "                \"host\": os.environ.get(\"OPENCGA_HOST\")\n",
    "        }\n",
    "})\n",
    "oc = OpenCGAClient(config)"
   ]
  },
  {
   "cell_type": "markdown",
   "id": "d60d41ce-2d43-4f79-8dde-941590d425a9",
   "metadata": {},
   "source": [
    "## Enter your username and password "
   ]
  },
  {
   "cell_type": "code",
   "execution_count": 4,
   "id": "295aa9f5-5793-4ca6-8b85-de8e2d5e9f9e",
   "metadata": {},
   "outputs": [],
   "source": [
    "oc.login(os.environ.get(\"OPENCGA_USERNAME\"), os.environ.get(\"OPENCGA_PASSWORD\")) # "
   ]
  },
  {
   "cell_type": "code",
   "execution_count": 5,
   "id": "62c5f58b-fc87-46a2-ae8e-c2023e580412",
   "metadata": {},
   "outputs": [],
   "source": [
    "users = oc.users\n",
    "projects = oc.projects\n",
    "studies = oc.studies\n",
    "files = oc.files\n",
    "jobs = oc.jobs\n",
    "families = oc.families\n",
    "individuals = oc.individuals\n",
    "samples = oc.samples\n",
    "cohorts = oc.cohorts\n",
    "panels = oc.panels"
   ]
  },
  {
   "cell_type": "code",
   "execution_count": 6,
   "id": "0b77d79d-bd24-4695-875c-6440b4d65fa9",
   "metadata": {},
   "outputs": [],
   "source": [
    "sample_result = oc.samples.search(study='1kG_phase3', limit=3, include='id')"
   ]
  },
  {
   "cell_type": "code",
   "execution_count": 7,
   "id": "c9984d48-c069-48c6-ae03-528bcec55279",
   "metadata": {},
   "outputs": [
    {
     "data": {
      "text/plain": [
       "[{'id': 'HG00096',\n",
       "  'release': 0,\n",
       "  'version': 0,\n",
       "  'somatic': False,\n",
       "  'attributes': {'OPENCGA_INDIVIDUAL': {'id': 'HG00096',\n",
       "    'name': 'HG00096',\n",
       "    'uuid': 'nyl7KAF7AAYAAacraMMiSg',\n",
       "    'father': {'release': 0, 'version': 0, 'parentalConsanguinity': False},\n",
       "    'mother': {'release': 0, 'version': 0, 'parentalConsanguinity': False},\n",
       "    'multiples': {},\n",
       "    'location': {},\n",
       "    'sex': 'MALE',\n",
       "    'karyotypicSex': 'XY',\n",
       "    'ethnicity': 'AFR',\n",
       "    'population': {'name': '', 'subpopulation': '', 'description': ''},\n",
       "    'release': 1,\n",
       "    'version': 1,\n",
       "    'creationDate': '20210901022141',\n",
       "    'modificationDate': '20210904233501',\n",
       "    'status': {'name': 'READY', 'date': '20210901022141', 'message': ''},\n",
       "    'lifeStatus': 'ALIVE',\n",
       "    'affectationStatus': 'UNKNOWN',\n",
       "    'phenotypes': [],\n",
       "    'disorders': [],\n",
       "    'parentalConsanguinity': False,\n",
       "    'attributes': {}}}},\n",
       " {'id': 'HG00097', 'release': 0, 'version': 0, 'somatic': False},\n",
       " {'id': 'HG00099',\n",
       "  'release': 0,\n",
       "  'version': 0,\n",
       "  'somatic': False,\n",
       "  'attributes': {'OPENCGA_INDIVIDUAL': {'id': 'HG00099',\n",
       "    'name': 'HG00099',\n",
       "    'uuid': 'qHQbFgF7AAYAAXjez7VV4w',\n",
       "    'father': {'release': 0, 'version': 0, 'parentalConsanguinity': False},\n",
       "    'mother': {'release': 0, 'version': 0, 'parentalConsanguinity': False},\n",
       "    'multiples': {},\n",
       "    'location': {},\n",
       "    'sex': 'MALE',\n",
       "    'karyotypicSex': 'XY',\n",
       "    'ethnicity': '',\n",
       "    'population': {'name': '', 'subpopulation': '', 'description': ''},\n",
       "    'release': 1,\n",
       "    'version': 1,\n",
       "    'creationDate': '20210902213946',\n",
       "    'modificationDate': '20210922221820',\n",
       "    'status': {'name': 'READY', 'date': '20210902213946', 'message': ''},\n",
       "    'lifeStatus': 'ALIVE',\n",
       "    'affectationStatus': 'UNKNOWN',\n",
       "    'phenotypes': [],\n",
       "    'disorders': [],\n",
       "    'parentalConsanguinity': False,\n",
       "    'attributes': {}}}}]"
      ]
     },
     "execution_count": 7,
     "metadata": {},
     "output_type": "execute_result"
    }
   ],
   "source": [
    "sample_result.responses[0]['result']"
   ]
  },
  {
   "cell_type": "markdown",
   "id": "9280c679-3eb2-4f4b-92c9-c1d05102dbc4",
   "metadata": {},
   "source": [
    "## See available methods"
   ]
  },
  {
   "cell_type": "code",
   "execution_count": 8,
   "id": "b2742efe-3c46-4765-8db0-18295235219f",
   "metadata": {},
   "outputs": [],
   "source": [
    "# dir(sample_result)"
   ]
  },
  {
   "cell_type": "code",
   "execution_count": 9,
   "id": "940eba00-d002-46c1-b79d-e5668bbae5b7",
   "metadata": {},
   "outputs": [
    {
     "data": {
      "text/plain": [
       "['HG00096', 'HG00097', 'HG00099']"
      ]
     },
     "execution_count": 9,
     "metadata": {},
     "output_type": "execute_result"
    }
   ],
   "source": [
    "[res['id'] for res in sample_result.results()]"
   ]
  },
  {
   "cell_type": "code",
   "execution_count": 10,
   "id": "29b228cb-c4f6-4068-a2a1-ca8463afbbbd",
   "metadata": {},
   "outputs": [
    {
     "data": {
      "text/plain": [
       "[{'id': 'HG00096',\n",
       "  'release': 0,\n",
       "  'version': 0,\n",
       "  'somatic': False,\n",
       "  'attributes': {'OPENCGA_INDIVIDUAL': {'id': 'HG00096',\n",
       "    'name': 'HG00096',\n",
       "    'uuid': 'nyl7KAF7AAYAAacraMMiSg',\n",
       "    'father': {'release': 0, 'version': 0, 'parentalConsanguinity': False},\n",
       "    'mother': {'release': 0, 'version': 0, 'parentalConsanguinity': False},\n",
       "    'multiples': {},\n",
       "    'location': {},\n",
       "    'sex': 'MALE',\n",
       "    'karyotypicSex': 'XY',\n",
       "    'ethnicity': 'AFR',\n",
       "    'population': {'name': '', 'subpopulation': '', 'description': ''},\n",
       "    'release': 1,\n",
       "    'version': 1,\n",
       "    'creationDate': '20210901022141',\n",
       "    'modificationDate': '20210904233501',\n",
       "    'status': {'name': 'READY', 'date': '20210901022141', 'message': ''},\n",
       "    'lifeStatus': 'ALIVE',\n",
       "    'affectationStatus': 'UNKNOWN',\n",
       "    'phenotypes': [],\n",
       "    'disorders': [],\n",
       "    'parentalConsanguinity': False,\n",
       "    'attributes': {}}}},\n",
       " {'id': 'HG00097', 'release': 0, 'version': 0, 'somatic': False},\n",
       " {'id': 'HG00099',\n",
       "  'release': 0,\n",
       "  'version': 0,\n",
       "  'somatic': False,\n",
       "  'attributes': {'OPENCGA_INDIVIDUAL': {'id': 'HG00099',\n",
       "    'name': 'HG00099',\n",
       "    'uuid': 'qHQbFgF7AAYAAXjez7VV4w',\n",
       "    'father': {'release': 0, 'version': 0, 'parentalConsanguinity': False},\n",
       "    'mother': {'release': 0, 'version': 0, 'parentalConsanguinity': False},\n",
       "    'multiples': {},\n",
       "    'location': {},\n",
       "    'sex': 'MALE',\n",
       "    'karyotypicSex': 'XY',\n",
       "    'ethnicity': '',\n",
       "    'population': {'name': '', 'subpopulation': '', 'description': ''},\n",
       "    'release': 1,\n",
       "    'version': 1,\n",
       "    'creationDate': '20210902213946',\n",
       "    'modificationDate': '20210922221820',\n",
       "    'status': {'name': 'READY', 'date': '20210902213946', 'message': ''},\n",
       "    'lifeStatus': 'ALIVE',\n",
       "    'affectationStatus': 'UNKNOWN',\n",
       "    'phenotypes': [],\n",
       "    'disorders': [],\n",
       "    'parentalConsanguinity': False,\n",
       "    'attributes': {}}}}]"
      ]
     },
     "execution_count": 10,
     "metadata": {},
     "output_type": "execute_result"
    }
   ],
   "source": [
    "[res for res in sample_result.results()]"
   ]
  },
  {
   "cell_type": "code",
   "execution_count": 11,
   "id": "2b59cf00-b8b9-45e3-8fe2-80fba40ef798",
   "metadata": {},
   "outputs": [],
   "source": [
    "# individuals.create(data={\"id\":'HG00096',\"name\":\"HG00096\"})"
   ]
  },
  {
   "cell_type": "code",
   "execution_count": 12,
   "id": "4c0ad7b0-8c3e-49c2-ac10-93e0525f743c",
   "metadata": {},
   "outputs": [],
   "source": [
    "# individuals.create(data={\"id\":'HG00097',\"name\":\"HG00097\"}).responses"
   ]
  },
  {
   "cell_type": "code",
   "execution_count": 13,
   "id": "1204dd5f-ca2f-47a7-a548-23551fcd7528",
   "metadata": {},
   "outputs": [],
   "source": [
    "# individuals.create(data={\"id\":'HG00099',\"name\":\"HG00099\",\"samples\":[{\"id\":\"HG00099\"}]}).responses"
   ]
  },
  {
   "cell_type": "markdown",
   "id": "f052896f-cd92-4458-93f0-f47be77aba43",
   "metadata": {},
   "source": [
    "## Update Individual Metadata"
   ]
  },
  {
   "cell_type": "code",
   "execution_count": 14,
   "id": "ec25eacd-2b7e-491e-a9b8-689219c6e03c",
   "metadata": {},
   "outputs": [
    {
     "data": {
      "text/plain": [
       "<pyopencga.commons.RESTResponse at 0x7ffb2aeeca00>"
      ]
     },
     "execution_count": 14,
     "metadata": {},
     "output_type": "execute_result"
    }
   ],
   "source": [
    "individuals.update(query_id=\"HG00099\",data={\"samples\":[\"HG00099\"],\"sex\":\"MALE\",\"karyotypicSex\":\"XY\",\"lifeStatus\":\"ALIVE\"})"
   ]
  },
  {
   "cell_type": "code",
   "execution_count": 15,
   "id": "4057e02c-2f04-4d03-ba0f-6eecbe58cb44",
   "metadata": {},
   "outputs": [
    {
     "data": {
      "text/plain": [
       "<pyopencga.commons.RESTResponse at 0x7ffb2aeeca60>"
      ]
     },
     "execution_count": 15,
     "metadata": {},
     "output_type": "execute_result"
    }
   ],
   "source": [
    "samples.update(query_id='HG00096',study='1kG_phase3',data={\"individual\":\"HG00096\",\"description\":\"demo description\"} )"
   ]
  },
  {
   "cell_type": "code",
   "execution_count": 16,
   "id": "ecf1784b-7c09-4be3-be98-cf13a009966d",
   "metadata": {},
   "outputs": [],
   "source": [
    "res = samples.search(study=\"1kG_phase3\",limit=5)"
   ]
  },
  {
   "cell_type": "code",
   "execution_count": 17,
   "id": "a63d1ae5-bd80-4bdc-a79f-192009ba4551",
   "metadata": {},
   "outputs": [
    {
     "data": {
      "text/plain": [
       "[('HG00096',), ('HG00097',), ('HG00099',), ('HG00100',), ('HG00101',)]"
      ]
     },
     "execution_count": 17,
     "metadata": {},
     "output_type": "execute_result"
    }
   ],
   "source": [
    "[(r['id'],) for r in res.results()]"
   ]
  },
  {
   "cell_type": "code",
   "execution_count": 18,
   "id": "6693110a-1531-4c37-a8cb-a3b610c6c40b",
   "metadata": {},
   "outputs": [
    {
     "name": "stdout",
     "output_type": "stream",
     "text": [
      "HG00096 {'id': 'HG00096', 'name': 'HG00096', 'uuid': 'nyl7KAF7AAYAAacraMMiSg', 'father': {'release': 0, 'version': 0, 'parentalConsanguinity': False}, 'mother': {'release': 0, 'version': 0, 'parentalConsanguinity': False}, 'multiples': {}, 'location': {}, 'sex': 'MALE', 'karyotypicSex': 'XY', 'ethnicity': 'AFR', 'population': {'name': '', 'subpopulation': '', 'description': ''}, 'release': 1, 'version': 1, 'creationDate': '20210901022141', 'modificationDate': '20210904233501', 'status': {'name': 'READY', 'date': '20210901022141', 'message': ''}, 'lifeStatus': 'ALIVE', 'affectationStatus': 'UNKNOWN', 'phenotypes': [], 'disorders': [], 'parentalConsanguinity': False, 'attributes': {}}\n",
      "HG00097 None\n",
      "HG00099 {'id': 'HG00099', 'name': 'HG00099', 'uuid': 'qHQbFgF7AAYAAXjez7VV4w', 'father': {'release': 0, 'version': 0, 'parentalConsanguinity': False}, 'mother': {'release': 0, 'version': 0, 'parentalConsanguinity': False}, 'multiples': {}, 'location': {}, 'sex': 'MALE', 'karyotypicSex': 'XY', 'ethnicity': '', 'population': {'name': '', 'subpopulation': '', 'description': ''}, 'release': 1, 'version': 1, 'creationDate': '20210902213946', 'modificationDate': '20210922222129', 'status': {'name': 'READY', 'date': '20210902213946', 'message': ''}, 'lifeStatus': 'ALIVE', 'affectationStatus': 'UNKNOWN', 'phenotypes': [], 'disorders': [], 'parentalConsanguinity': False, 'attributes': {}}\n",
      "HG00100 {'id': 'HG00100', 'name': 'HG00100', 'uuid': 'nzGKowF7AAYAAQ-UeZ0-ng', 'father': {'release': 0, 'version': 0, 'parentalConsanguinity': False}, 'mother': {'release': 0, 'version': 0, 'parentalConsanguinity': False}, 'multiples': {}, 'location': {}, 'sex': 'MALE', 'karyotypicSex': 'XY', 'ethnicity': 'AFR', 'population': {'name': '', 'subpopulation': '', 'description': ''}, 'release': 1, 'version': 1, 'creationDate': '20210901023029', 'modificationDate': '20210904233610', 'status': {'name': 'READY', 'date': '20210901023029', 'message': ''}, 'lifeStatus': 'ALIVE', 'affectationStatus': 'UNKNOWN', 'phenotypes': [], 'disorders': [], 'parentalConsanguinity': False, 'attributes': {}}\n",
      "HG00101 {'id': 'HG00101', 'name': 'HG00101', 'uuid': 'p-lxLAF7AAYAAUs106UkhA', 'father': {'release': 0, 'version': 0, 'parentalConsanguinity': False}, 'mother': {'release': 0, 'version': 0, 'parentalConsanguinity': False}, 'multiples': {}, 'location': {}, 'sex': 'MALE', 'karyotypicSex': 'XY', 'ethnicity': 'AFR', 'population': {'name': '', 'subpopulation': '', 'description': ''}, 'release': 1, 'version': 1, 'creationDate': '20210902190819', 'modificationDate': '20210922221821', 'status': {'name': 'READY', 'date': '20210902190819', 'message': ''}, 'lifeStatus': 'ALIVE', 'affectationStatus': 'UNKNOWN', 'phenotypes': [], 'disorders': [], 'parentalConsanguinity': False, 'attributes': {}}\n"
     ]
    }
   ],
   "source": [
    "for r in res.results():\n",
    "    print(r['id'], r.get('attributes').get('OPENCGA_INDIVIDUAL'))"
   ]
  },
  {
   "cell_type": "markdown",
   "id": "65da5fd7-4fb9-45fc-ab5c-72b8678f2422",
   "metadata": {},
   "source": [
    "## VariableSet annotations"
   ]
  },
  {
   "cell_type": "markdown",
   "id": "1952f547-c3d9-4c4c-8e51-2f31634e1c5b",
   "metadata": {},
   "source": [
    "We can add custom annotations to individuals, samples, cohorts, etc through the idea of *VariableSet* similar to a table but more flexible"
   ]
  },
  {
   "cell_type": "code",
   "execution_count": null,
   "id": "2877e2cc-59a2-4b9f-94a6-3400314910d7",
   "metadata": {},
   "outputs": [],
   "source": [
    "individuals.update(query_id=\"HG00103\",\n",
    "                   data={\"sex\":\"MALE\",\"karyotypicSex\":\"XY\",\"lifeStatus\":\"ALIVE\",\n",
    "                         \"annotationSets\":[{\"id\":\"demo1\",\"variableSetId\": \"individual_private_details\",\n",
    "                                             \"annotations\": {\"full_name\": \"John Smith\", \"age\": 60,\n",
    "                                                             \"gender\": \"MALE\",\"hpo\": [\"HP:0000118\", \"HP:0000220\"]}}]})"
   ]
  },
  {
   "cell_type": "markdown",
   "id": "b8ced637-9792-4cf2-a224-1b39a824f556",
   "metadata": {},
   "source": [
    "#### You can add the annotations during the individual creation step or later through the *update* method"
   ]
  },
  {
   "cell_type": "code",
   "execution_count": 108,
   "id": "fb3a2db9-85c8-4650-899e-4abe45e565f0",
   "metadata": {},
   "outputs": [
    {
     "data": {
      "text/plain": [
       "[{'id': 'Update individual',\n",
       "  'dbTime': 9,\n",
       "  'numResults': 1,\n",
       "  'numTotalResults': 1,\n",
       "  'resultType': 'org.opencb.opencga.core.models.Individual',\n",
       "  'result': [{'id': 'HG00101',\n",
       "    'annotationSets': [{'id': 'demo1',\n",
       "      'name': 'demo1',\n",
       "      'variableSetId': 'individual_private_details',\n",
       "      'annotations': {'full_name': 'Bob Smith',\n",
       "       'gender': 'MALE',\n",
       "       'hpo': ['HP:0000118', 'HP:0000220'],\n",
       "       'age': 62},\n",
       "      'creationDate': '20210904234024',\n",
       "      'release': 1,\n",
       "      'attributes': {}}],\n",
       "    'name': 'HG00101',\n",
       "    'uuid': 'p-lxLAF7AAYAAUs106UkhA',\n",
       "    'father': {'release': 0, 'version': 0, 'parentalConsanguinity': False},\n",
       "    'mother': {'release': 0, 'version': 0, 'parentalConsanguinity': False},\n",
       "    'multiples': {},\n",
       "    'location': {},\n",
       "    'sex': 'MALE',\n",
       "    'karyotypicSex': 'XY',\n",
       "    'ethnicity': 'AFR',\n",
       "    'population': {'name': '', 'subpopulation': '', 'description': ''},\n",
       "    'release': 1,\n",
       "    'version': 1,\n",
       "    'creationDate': '20210902190819',\n",
       "    'modificationDate': '20210904234024',\n",
       "    'status': {'name': 'READY', 'date': '20210902190819', 'message': ''},\n",
       "    'lifeStatus': 'ALIVE',\n",
       "    'affectationStatus': 'UNKNOWN',\n",
       "    'phenotypes': [],\n",
       "    'disorders': [],\n",
       "    'samples': [{'id': 'HG00101',\n",
       "      'uuid': 'elsLagF7AAQAAansTJHnow',\n",
       "      'source': 'ALL.chr22.phase3_shapeit2_mvncall_integrated_v5a.20130502.genotypes.vcf.gz',\n",
       "      'individual': {'release': 0,\n",
       "       'version': 0,\n",
       "       'parentalConsanguinity': False},\n",
       "      'release': 1,\n",
       "      'version': 1,\n",
       "      'creationDate': '20210824224952',\n",
       "      'status': {'name': 'READY', 'date': '20210824224952', 'message': ''},\n",
       "      'description': '',\n",
       "      'type': '',\n",
       "      'somatic': False,\n",
       "      'phenotypes': [],\n",
       "      'stats': {},\n",
       "      'attributes': {}}],\n",
       "    'parentalConsanguinity': False,\n",
       "    'attributes': {}}],\n",
       "  'results': [{'id': 'HG00101',\n",
       "    'annotationSets': [{'id': 'demo1',\n",
       "      'name': 'demo1',\n",
       "      'variableSetId': 'individual_private_details',\n",
       "      'annotations': {'full_name': 'Bob Smith',\n",
       "       'gender': 'MALE',\n",
       "       'hpo': ['HP:0000118', 'HP:0000220'],\n",
       "       'age': 62},\n",
       "      'creationDate': '20210904234024',\n",
       "      'release': 1,\n",
       "      'attributes': {}}],\n",
       "    'name': 'HG00101',\n",
       "    'uuid': 'p-lxLAF7AAYAAUs106UkhA',\n",
       "    'father': {'release': 0, 'version': 0, 'parentalConsanguinity': False},\n",
       "    'mother': {'release': 0, 'version': 0, 'parentalConsanguinity': False},\n",
       "    'multiples': {},\n",
       "    'location': {},\n",
       "    'sex': 'MALE',\n",
       "    'karyotypicSex': 'XY',\n",
       "    'ethnicity': 'AFR',\n",
       "    'population': {'name': '', 'subpopulation': '', 'description': ''},\n",
       "    'release': 1,\n",
       "    'version': 1,\n",
       "    'creationDate': '20210902190819',\n",
       "    'modificationDate': '20210904234024',\n",
       "    'status': {'name': 'READY', 'date': '20210902190819', 'message': ''},\n",
       "    'lifeStatus': 'ALIVE',\n",
       "    'affectationStatus': 'UNKNOWN',\n",
       "    'phenotypes': [],\n",
       "    'disorders': [],\n",
       "    'samples': [{'id': 'HG00101',\n",
       "      'uuid': 'elsLagF7AAQAAansTJHnow',\n",
       "      'source': 'ALL.chr22.phase3_shapeit2_mvncall_integrated_v5a.20130502.genotypes.vcf.gz',\n",
       "      'individual': {'release': 0,\n",
       "       'version': 0,\n",
       "       'parentalConsanguinity': False},\n",
       "      'release': 1,\n",
       "      'version': 1,\n",
       "      'creationDate': '20210824224952',\n",
       "      'status': {'name': 'READY', 'date': '20210824224952', 'message': ''},\n",
       "      'description': '',\n",
       "      'type': '',\n",
       "      'somatic': False,\n",
       "      'phenotypes': [],\n",
       "      'stats': {},\n",
       "      'attributes': {}}],\n",
       "    'parentalConsanguinity': False,\n",
       "    'attributes': {}}]}]"
      ]
     },
     "execution_count": 108,
     "metadata": {},
     "output_type": "execute_result"
    }
   ],
   "source": [
    "individuals.update(query_id=\"HG00101\",\n",
    "                   data={\"sex\":\"MALE\",\"karyotypicSex\":\"XY\",\"lifeStatus\":\"ALIVE\",\"ethnicity\":\"AFR\",\n",
    "                         \"annotationSets\":[{\"id\":\"demo1\",\"variableSetId\": \"individual_private_details\",\n",
    "                                             \"annotations\": {\"full_name\": \"Bob Smith\", \"age\": 62,\n",
    "                                                             \"gender\": \"MALE\",\"hpo\": [\"HP:0000118\", \"HP:0000220\"]}}]})"
   ]
  },
  {
   "cell_type": "markdown",
   "id": "6b41b285-bf83-4fe8-98ff-8ec1fbfbbb52",
   "metadata": {},
   "source": [
    "## Search Individuals"
   ]
  },
  {
   "cell_type": "code",
   "execution_count": 22,
   "id": "f68c4d4d-97b4-49c8-8371-9c22fd53b6f6",
   "metadata": {},
   "outputs": [],
   "source": [
    "in_res = individuals.search(study=\"1kG_phase3\",limit=15)"
   ]
  },
  {
   "cell_type": "code",
   "execution_count": 23,
   "id": "5df06bc7-ac05-4484-9465-a238d9c2a6e7",
   "metadata": {},
   "outputs": [],
   "source": [
    "def get_individual_details(resp):\n",
    "    if not resp['annotationSets']: # check that this list is not empty\n",
    "        return Err(\"Not found\")      \n",
    "    res = resp['annotationSets'][0]['annotations']\n",
    "    return Ok(res)"
   ]
  },
  {
   "cell_type": "code",
   "execution_count": 24,
   "id": "068950a9-4fb0-43df-93f1-fb565f4d5b00",
   "metadata": {},
   "outputs": [
    {
     "name": "stdout",
     "output_type": "stream",
     "text": [
      " HG00096, {'full_name': 'John Smith', 'gender': 'MALE', 'hpo': ['HP:0000118', 'HP:0000220'], 'age': 60}\n",
      " HG00097, {'full_name': 'John Smith', 'gender': 'MALE', 'hpo': ['HP:0000118', 'HP:0000220'], 'age': 60}\n",
      " HG00100, {'full_name': 'John Smith', 'gender': 'MALE', 'hpo': ['HP:0000118', 'HP:0000220'], 'age': 60}\n",
      " HG00101, {'full_name': 'Bob Smith', 'gender': 'MALE', 'hpo': ['HP:0000118', 'HP:0000220'], 'age': 62}\n",
      " HG00102, NA\n",
      " HG00103, NA\n",
      " HG00099, NA\n",
      " HG00105, NA\n",
      " HG00106, NA\n",
      " HG00107, NA\n",
      " HG00108, NA\n",
      " HG00109, NA\n",
      " HG00110, NA\n",
      " HG00111, NA\n",
      " HG00112, NA\n"
     ]
    }
   ],
   "source": [
    "for r in in_res.results():\n",
    "    print(f\" {r['id']}, {get_individual_details(r).unwrap_or('NA')}\")"
   ]
  },
  {
   "cell_type": "markdown",
   "id": "45dfa8c8-9f97-4b3d-b65e-8fa8d4daf858",
   "metadata": {},
   "source": [
    "**NB**. Note that we have not annotated the other individuals so they have no annotations yet "
   ]
  },
  {
   "cell_type": "code",
   "execution_count": null,
   "id": "32aeaf60-45a5-4f3d-99d8-0860598db8a4",
   "metadata": {},
   "outputs": [],
   "source": []
  },
  {
   "cell_type": "code",
   "execution_count": 58,
   "id": "aa4786e2-24e2-4274-b6c5-8ea90d9b174f",
   "metadata": {},
   "outputs": [],
   "source": []
  },
  {
   "cell_type": "code",
   "execution_count": null,
   "id": "8ec2a0a3-f735-4878-be3f-53fc2a6ff2bb",
   "metadata": {},
   "outputs": [],
   "source": []
  },
  {
   "cell_type": "code",
   "execution_count": null,
   "id": "63caea32-c5ab-4cd9-8f9b-0130cb8a8578",
   "metadata": {},
   "outputs": [],
   "source": []
  }
 ],
 "metadata": {
  "kernelspec": {
   "display_name": "Python 3 (ipykernel)",
   "language": "python",
   "name": "python3"
  },
  "language_info": {
   "codemirror_mode": {
    "name": "ipython",
    "version": 3
   },
   "file_extension": ".py",
   "mimetype": "text/x-python",
   "name": "python",
   "nbconvert_exporter": "python",
   "pygments_lexer": "ipython3",
   "version": "3.9.5"
  }
 },
 "nbformat": 4,
 "nbformat_minor": 5
}
