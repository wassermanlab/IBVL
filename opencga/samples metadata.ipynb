{
 "cells": [
  {
   "cell_type": "markdown",
   "id": "5f81c186-e544-4d88-8a48-81b3ae9321a1",
   "metadata": {
    "slideshow": {
     "slide_type": "slide"
    },
    "tags": []
   },
   "source": [
    "## Setup"
   ]
  },
  {
   "cell_type": "code",
   "execution_count": 1,
   "id": "dab11379-b58c-48f8-afd7-8fa00fe49cab",
   "metadata": {
    "slideshow": {
     "slide_type": "subslide"
    },
    "tags": []
   },
   "outputs": [],
   "source": [
    "import os\n",
    "import pandas as pd\n",
    "import matplotlib.pyplot as plt\n",
    "from time import sleep\n",
    "plt.style.use('bmh')"
   ]
  },
  {
   "cell_type": "code",
   "execution_count": 2,
   "id": "33fc857a-4994-4957-9e5c-438e036bbd3a",
   "metadata": {
    "slideshow": {
     "slide_type": "subslide"
    },
    "tags": []
   },
   "outputs": [],
   "source": [
    "from result import *\n",
    "from pyopencga.opencga_config import ClientConfiguration\n",
    "from pyopencga.opencga_client import OpenCGAClient"
   ]
  },
  {
   "cell_type": "code",
   "execution_count": 3,
   "id": "dab464a8-0b95-4399-8b15-22a9efc19068",
   "metadata": {},
   "outputs": [
    {
     "data": {
      "text/plain": [
       "True"
      ]
     },
     "execution_count": 3,
     "metadata": {},
     "output_type": "execute_result"
    }
   ],
   "source": [
    "from dotenv import load_dotenv\n",
    "load_dotenv()"
   ]
  },
  {
   "cell_type": "markdown",
   "id": "af3897d2-42b2-4a5f-97f6-1fd078de880e",
   "metadata": {
    "slideshow": {
     "slide_type": "slide"
    },
    "tags": []
   },
   "source": [
    "## Configure and Connect"
   ]
  },
  {
   "cell_type": "code",
   "execution_count": 4,
   "id": "16e34c64-be71-45ab-bd2c-14bf8d304e6d",
   "metadata": {
    "slideshow": {
     "slide_type": "subslide"
    },
    "tags": []
   },
   "outputs": [],
   "source": [
    "# User configuration will be read from a .env file\n",
    "config = ClientConfiguration({\n",
    "        \"rest\": {\n",
    "                \"host\": os.environ.get(\"OPENCGA_HOST\")\n",
    "        }\n",
    "})\n",
    "oc = OpenCGAClient(config)"
   ]
  },
  {
   "cell_type": "markdown",
   "id": "d60d41ce-2d43-4f79-8dde-941590d425a9",
   "metadata": {
    "slideshow": {
     "slide_type": "slide"
    },
    "tags": []
   },
   "source": [
    "## User Login "
   ]
  },
  {
   "cell_type": "code",
   "execution_count": 5,
   "id": "295aa9f5-5793-4ca6-8b85-de8e2d5e9f9e",
   "metadata": {
    "slideshow": {
     "slide_type": "subslide"
    },
    "tags": []
   },
   "outputs": [],
   "source": [
    "user = os.environ.get(\"OPENCGA_USERNAME\")\n",
    "passwd = os.environ.get(\"OPENCGA_PASSWORD\")\n",
    "oc.login(user, passwd) # "
   ]
  },
  {
   "cell_type": "markdown",
   "id": "1b08ebaf-b83d-4827-81ad-84ddf35c8388",
   "metadata": {
    "slideshow": {
     "slide_type": "slide"
    },
    "tags": []
   },
   "source": [
    "### OpenCGA Clients"
   ]
  },
  {
   "cell_type": "code",
   "execution_count": 6,
   "id": "62c5f58b-fc87-46a2-ae8e-c2023e580412",
   "metadata": {
    "slideshow": {
     "slide_type": "subslide"
    },
    "tags": []
   },
   "outputs": [],
   "source": [
    "users = oc.users\n",
    "projects = oc.projects\n",
    "studies = oc.studies\n",
    "files = oc.files\n",
    "jobs = oc.jobs\n",
    "families = oc.families\n",
    "individuals = oc.individuals\n",
    "samples = oc.samples\n",
    "cohorts = oc.cohorts\n",
    "panels = oc.panels"
   ]
  },
  {
   "cell_type": "markdown",
   "id": "b535c0f5-67df-42be-8483-cae3e54e06d3",
   "metadata": {
    "slideshow": {
     "slide_type": "slide"
    },
    "tags": []
   },
   "source": [
    "## Sample Queries"
   ]
  },
  {
   "cell_type": "code",
   "execution_count": 7,
   "id": "067e1008-b803-45e5-befa-68fe438274b6",
   "metadata": {
    "slideshow": {
     "slide_type": "subslide"
    },
    "tags": []
   },
   "outputs": [],
   "source": [
    "sample_result = oc.samples.search(study='1kG_phase3', limit=5)"
   ]
  },
  {
   "cell_type": "markdown",
   "id": "c1a6f71d-a78b-4a18-a6f7-d7d978806dd4",
   "metadata": {},
   "source": [
    "We can of course use python to extract only the fields we care about"
   ]
  },
  {
   "cell_type": "code",
   "execution_count": 8,
   "id": "940eba00-d002-46c1-b79d-e5668bbae5b7",
   "metadata": {
    "slideshow": {
     "slide_type": "subslide"
    },
    "tags": []
   },
   "outputs": [
    {
     "data": {
      "text/plain": [
       "['HG00096', 'HG00097', 'HG00099', 'HG00100', 'HG00101']"
      ]
     },
     "execution_count": 8,
     "metadata": {},
     "output_type": "execute_result"
    }
   ],
   "source": [
    "[res['id'] for res in sample_result.results()]"
   ]
  },
  {
   "cell_type": "markdown",
   "id": "9280c679-3eb2-4f4b-92c9-c1d05102dbc4",
   "metadata": {
    "slideshow": {
     "slide_type": "skip"
    },
    "tags": []
   },
   "source": [
    "## See available methods\n",
    "We have only been using the \"results\" methods from result object but we can see what are the other available methods"
   ]
  },
  {
   "cell_type": "code",
   "execution_count": 9,
   "id": "b2742efe-3c46-4765-8db0-18295235219f",
   "metadata": {
    "slideshow": {
     "slide_type": "skip"
    },
    "tags": []
   },
   "outputs": [
    {
     "name": "stdout",
     "output_type": "stream",
     "text": [
      "Help on RESTResponse in module pyopencga.commons object:\n",
      "\n",
      "class RESTResponse(builtins.object)\n",
      " |  RESTResponse(response)\n",
      " |  \n",
      " |  Methods defined here:\n",
      " |  \n",
      " |  __init__(self, response)\n",
      " |      Initialize self.  See help(type(self)) for accurate signature.\n",
      " |  \n",
      " |  num_matches(self)\n",
      " |      Return the total number of matches taking of all the DataResponses\n",
      " |  \n",
      " |  num_results(self)\n",
      " |      Return the total number of results taking of all the DataResponses\n",
      " |  \n",
      " |  results(self)\n",
      " |      Iterates over all the results of all the QueryResults\n",
      " |  \n",
      " |  ----------------------------------------------------------------------\n",
      " |  Data descriptors defined here:\n",
      " |  \n",
      " |  __dict__\n",
      " |      dictionary for instance variables (if defined)\n",
      " |  \n",
      " |  __weakref__\n",
      " |      list of weak references to the object (if defined)\n",
      "\n"
     ]
    }
   ],
   "source": [
    "help(sample_result)"
   ]
  },
  {
   "cell_type": "markdown",
   "id": "ad0f9c9d-790a-4aa4-8ae1-cee74faae151",
   "metadata": {
    "slideshow": {
     "slide_type": "slide"
    },
    "tags": []
   },
   "source": [
    "## Create Samples"
   ]
  },
  {
   "cell_type": "code",
   "execution_count": 10,
   "id": "cb4e0e69-c9d0-4c49-82e6-ca8efff85f21",
   "metadata": {
    "slideshow": {
     "slide_type": "subslide"
    },
    "tags": []
   },
   "outputs": [],
   "source": [
    "# samples.create(data={\"id\":\"A\"})\n",
    "# samples.create(data={\"id\":\"B\"})\n",
    "# samples.create(data={\"id\":\"C\"})"
   ]
  },
  {
   "cell_type": "markdown",
   "id": "65da5fd7-4fb9-45fc-ab5c-72b8678f2422",
   "metadata": {
    "slideshow": {
     "slide_type": "slide"
    },
    "tags": []
   },
   "source": [
    "## VariableSet annotations"
   ]
  },
  {
   "cell_type": "markdown",
   "id": "1952f547-c3d9-4c4c-8e51-2f31634e1c5b",
   "metadata": {
    "slideshow": {
     "slide_type": "subslide"
    },
    "tags": []
   },
   "source": [
    "We can add custom annotations to individuals, samples, cohorts, etc through the idea of *VariableSet* similar to a table but more flexible.You can add the annotations during the individual creation step or later through the *update* method. We have already created a variableset called samples_metadata to add custom annotaions to any sample"
   ]
  },
  {
   "cell_type": "code",
   "execution_count": 11,
   "id": "ea7bde51-2fcc-45bc-8633-ea5025a2b360",
   "metadata": {
    "slideshow": {
     "slide_type": "subslide"
    },
    "tags": []
   },
   "outputs": [
    {
     "data": {
      "text/plain": [
       "<pyopencga.commons.RESTResponse at 0x7fef202dd8e0>"
      ]
     },
     "execution_count": 11,
     "metadata": {},
     "output_type": "execute_result"
    }
   ],
   "source": [
    "samples.update(query_id=\"A\",data={\"name\":\"A\",\"annotationSets\":\n",
    "                                 [{\"id\":\"demo1\",\"variableSetId\":\"samples_metadata\",\n",
    "                                   \"annotations\":{\"sample_id\":\"A\",\"sample_batch\":\"1\",\n",
    "                                                  \"volume\":\"52\",\"amount\":\"1 g\",\n",
    "                                                  \"fastqc_download_status\":\"Downloaded\",\n",
    "                                                  \"date_processed_by_gsc\":\"07/06/2021\"}}]},\n",
    "               annotationSetsAction=\"SET\")"
   ]
  },
  {
   "cell_type": "code",
   "execution_count": 12,
   "id": "0e97f16e-ac66-4f20-aa00-c6d14c60dcc9",
   "metadata": {
    "slideshow": {
     "slide_type": "subslide"
    },
    "tags": []
   },
   "outputs": [
    {
     "data": {
      "text/plain": [
       "<pyopencga.commons.RESTResponse at 0x7fef42b1bf70>"
      ]
     },
     "execution_count": 12,
     "metadata": {},
     "output_type": "execute_result"
    }
   ],
   "source": [
    "samples.update(query_id=\"B\",data={\"name\":\"B\",\"annotationSets\":\n",
    "                                 [{\"id\":\"demo1\",\"variableSetId\":\"samples_metadata\",\n",
    "                                   \"annotations\":{\"sample_id\":\"B\",\"sample_batch\":\"1\",\n",
    "                                                  \"volume\":\"45\",\"amount\":\"1 g\",\n",
    "                                                 \"fastqc_download_status\":\"Downloaded\",\n",
    "                                                 \"date_processed_by_gsc\":\"09/08/2021\"}}]},\n",
    "                annotationSetsAction=\"SET\")"
   ]
  },
  {
   "cell_type": "code",
   "execution_count": 13,
   "id": "704004fe-7394-4c57-98b0-d8ee8aa66247",
   "metadata": {
    "slideshow": {
     "slide_type": "subslide"
    },
    "tags": []
   },
   "outputs": [
    {
     "data": {
      "text/plain": [
       "<pyopencga.commons.RESTResponse at 0x7fef30238400>"
      ]
     },
     "execution_count": 13,
     "metadata": {},
     "output_type": "execute_result"
    }
   ],
   "source": [
    "samples.update(query_id=\"C\",data={\"name\":\"C\",\"annotationSets\":\n",
    "                                 [{\"id\":\"demo1\",\"variableSetId\":\"samples_metadata\",\n",
    "                                   \"annotations\":{\"sample_id\":\"C\",\"sample_batch\":\"1\",\n",
    "                                                  \"volume\":\"48\",\"amount\":\"1 g\",                                                  \n",
    "                                                  \"fastqc_download_status\":\"Downloaded\",\n",
    "                                                 \"date_processed_by_gsc\":\"09/09/2021\"}}]},\n",
    "              annotationSetsAction=\"SET\")"
   ]
  },
  {
   "cell_type": "markdown",
   "id": "6bb86029-00cf-4c03-8ee7-0a527bdc5479",
   "metadata": {
    "slideshow": {
     "slide_type": "slide"
    },
    "tags": []
   },
   "source": [
    "#### we can use a single query to search multiple samples at once"
   ]
  },
  {
   "cell_type": "code",
   "execution_count": 14,
   "id": "4778b652-804c-43bd-9106-bb5cdf8ac0e0",
   "metadata": {
    "slideshow": {
     "slide_type": "subslide"
    },
    "tags": []
   },
   "outputs": [
    {
     "name": "stdout",
     "output_type": "stream",
     "text": [
      "{'id': 'A', 'annotationSets': [{'id': 'demo1', 'name': 'demo1', 'variableSetId': 'samples_metadata', 'annotations': {'volume': '52', 'date_processed_by_gsc': '07/06/2021', 'amount': '1 g', 'fastqc_download_status': 'Downloaded', 'sample_id': 'A', 'sample_batch': '1'}, 'creationDate': '20220110075129', 'release': 1, 'attributes': {}}], 'name': 'A', 'uuid': 'V8PlhQF8AAQAAesh7nKstg', 'source': '', 'individual': {'release': 0, 'version': 0, 'parentalConsanguinity': False}, 'release': 1, 'version': 1, 'creationDate': '20211006224028', 'modificationDate': '20220110075129', 'status': {'name': 'READY', 'date': '20211006224028', 'message': ''}, 'description': '', 'type': '', 'somatic': False, 'phenotypes': [], 'stats': {}, 'attributes': {}}\n",
      "{'id': 'B', 'annotationSets': [{'id': 'demo1', 'name': 'demo1', 'variableSetId': 'samples_metadata', 'annotations': {'volume': '45', 'date_processed_by_gsc': '09/08/2021', 'amount': '1 g', 'fastqc_download_status': 'Downloaded', 'sample_id': 'B', 'sample_batch': '1'}, 'creationDate': '20220110075129', 'release': 1, 'attributes': {}}], 'name': 'B', 'uuid': 'V8V2sgF8AAQAATqdjtma4w', 'source': '', 'individual': {'release': 0, 'version': 0, 'parentalConsanguinity': False}, 'release': 1, 'version': 1, 'creationDate': '20211006224211', 'modificationDate': '20220110075129', 'status': {'name': 'READY', 'date': '20211006224211', 'message': ''}, 'description': '', 'type': '', 'somatic': False, 'phenotypes': [], 'stats': {}, 'attributes': {}}\n",
      "{'id': 'C', 'annotationSets': [{'id': 'demo1', 'name': 'demo1', 'variableSetId': 'samples_metadata', 'annotations': {'volume': '48', 'date_processed_by_gsc': '09/09/2021', 'amount': '1 g', 'fastqc_download_status': 'Downloaded', 'sample_id': 'C', 'sample_batch': '1'}, 'creationDate': '20220110075129', 'release': 1, 'attributes': {}}], 'name': 'C', 'uuid': 'V8WpIgF8AAQAAcdwezvX3A', 'source': '', 'individual': {'release': 0, 'version': 0, 'parentalConsanguinity': False}, 'release': 1, 'version': 1, 'creationDate': '20211006224224', 'modificationDate': '20220110075129', 'status': {'name': 'READY', 'date': '20211006224224', 'message': ''}, 'description': '', 'type': '', 'somatic': False, 'phenotypes': [], 'stats': {}, 'attributes': {}}\n"
     ]
    }
   ],
   "source": [
    "res = samples.info(query_id = \"A,B,C\",study=\"1kG_phase3\")\n",
    "for sample in res.results():\n",
    "    print(sample)"
   ]
  },
  {
   "cell_type": "markdown",
   "id": "cf42f6eb-1254-4912-83cb-4b94bbd6e095",
   "metadata": {
    "slideshow": {
     "slide_type": "subslide"
    },
    "tags": []
   },
   "source": [
    "##### By default you only see a regular python dictionaries which might not be the best way to inspect the samples metadata"
   ]
  },
  {
   "cell_type": "markdown",
   "id": "d66727d6-d190-4311-b3e4-130336b5832c",
   "metadata": {
    "slideshow": {
     "slide_type": "slide"
    },
    "tags": []
   },
   "source": [
    "### We define a small function to get sample data"
   ]
  },
  {
   "cell_type": "code",
   "execution_count": 15,
   "id": "5df06bc7-ac05-4484-9465-a238d9c2a6e7",
   "metadata": {
    "slideshow": {
     "slide_type": "subslide"
    },
    "tags": []
   },
   "outputs": [],
   "source": [
    "def get_sample_details(resp):\n",
    "    if not resp['annotationSets']: \n",
    "        return Err(\"Not found\")      \n",
    "    res = resp['annotationSets'][0]['annotations']\n",
    "    return Ok(res)"
   ]
  },
  {
   "cell_type": "markdown",
   "id": "532eb904-90d0-4b8b-a70a-18fa9026c664",
   "metadata": {
    "slideshow": {
     "slide_type": "slide"
    },
    "tags": []
   },
   "source": [
    "##### We can use our new function and get a nice dataframe"
   ]
  },
  {
   "cell_type": "code",
   "execution_count": 16,
   "id": "df582e6d-c4ce-4649-9c47-e3413068cce6",
   "metadata": {
    "slideshow": {
     "slide_type": "subslide"
    },
    "tags": []
   },
   "outputs": [
    {
     "data": {
      "text/html": [
       "<div>\n",
       "<style scoped>\n",
       "    .dataframe tbody tr th:only-of-type {\n",
       "        vertical-align: middle;\n",
       "    }\n",
       "\n",
       "    .dataframe tbody tr th {\n",
       "        vertical-align: top;\n",
       "    }\n",
       "\n",
       "    .dataframe thead th {\n",
       "        text-align: right;\n",
       "    }\n",
       "</style>\n",
       "<table border=\"1\" class=\"dataframe\">\n",
       "  <thead>\n",
       "    <tr style=\"text-align: right;\">\n",
       "      <th></th>\n",
       "      <th>volume</th>\n",
       "      <th>date_processed_by_gsc</th>\n",
       "      <th>amount</th>\n",
       "      <th>fastqc_download_status</th>\n",
       "      <th>sample_id</th>\n",
       "      <th>sample_batch</th>\n",
       "    </tr>\n",
       "  </thead>\n",
       "  <tbody>\n",
       "    <tr>\n",
       "      <th>0</th>\n",
       "      <td>52</td>\n",
       "      <td>07/06/2021</td>\n",
       "      <td>1 g</td>\n",
       "      <td>Downloaded</td>\n",
       "      <td>A</td>\n",
       "      <td>1</td>\n",
       "    </tr>\n",
       "    <tr>\n",
       "      <th>1</th>\n",
       "      <td>45</td>\n",
       "      <td>09/08/2021</td>\n",
       "      <td>1 g</td>\n",
       "      <td>Downloaded</td>\n",
       "      <td>B</td>\n",
       "      <td>1</td>\n",
       "    </tr>\n",
       "    <tr>\n",
       "      <th>2</th>\n",
       "      <td>48</td>\n",
       "      <td>09/09/2021</td>\n",
       "      <td>1 g</td>\n",
       "      <td>Downloaded</td>\n",
       "      <td>C</td>\n",
       "      <td>1</td>\n",
       "    </tr>\n",
       "  </tbody>\n",
       "</table>\n",
       "</div>"
      ],
      "text/plain": [
       "  volume date_processed_by_gsc amount fastqc_download_status sample_id  \\\n",
       "0     52            07/06/2021    1 g             Downloaded         A   \n",
       "1     45            09/08/2021    1 g             Downloaded         B   \n",
       "2     48            09/09/2021    1 g             Downloaded         C   \n",
       "\n",
       "  sample_batch  \n",
       "0            1  \n",
       "1            1  \n",
       "2            1  "
      ]
     },
     "execution_count": 16,
     "metadata": {},
     "output_type": "execute_result"
    }
   ],
   "source": [
    "ds = [get_sample_details(r).unwrap_or('NA') for r in res.results()]\n",
    "df = pd.DataFrame(ds)\n",
    "df.head()"
   ]
  },
  {
   "cell_type": "markdown",
   "id": "08e395c9-233d-4217-9925-6b49ee2a6de7",
   "metadata": {
    "slideshow": {
     "slide_type": "slide"
    },
    "tags": []
   },
   "source": [
    "##### Since we have a pandas dataframe we can use it to inspect the data and do some visualization after minor data preprocessing"
   ]
  },
  {
   "cell_type": "code",
   "execution_count": 17,
   "id": "068950a9-4fb0-43df-93f1-fb565f4d5b00",
   "metadata": {
    "slideshow": {
     "slide_type": "subslide"
    },
    "tags": []
   },
   "outputs": [],
   "source": [
    "df.date_processed_by_gsc = pd.to_datetime(df.date_processed_by_gsc)\n",
    "df.volume = pd.to_numeric(df.volume)"
   ]
  },
  {
   "cell_type": "code",
   "execution_count": 18,
   "id": "3fd6792e-147f-424f-9a4d-8469e01d1b83",
   "metadata": {
    "slideshow": {
     "slide_type": "slide"
    },
    "tags": []
   },
   "outputs": [
    {
     "data": {
      "text/html": [
       "<div>\n",
       "<style scoped>\n",
       "    .dataframe tbody tr th:only-of-type {\n",
       "        vertical-align: middle;\n",
       "    }\n",
       "\n",
       "    .dataframe tbody tr th {\n",
       "        vertical-align: top;\n",
       "    }\n",
       "\n",
       "    .dataframe thead th {\n",
       "        text-align: right;\n",
       "    }\n",
       "</style>\n",
       "<table border=\"1\" class=\"dataframe\">\n",
       "  <thead>\n",
       "    <tr style=\"text-align: right;\">\n",
       "      <th></th>\n",
       "      <th>volume</th>\n",
       "      <th>date_processed_by_gsc</th>\n",
       "      <th>amount</th>\n",
       "      <th>fastqc_download_status</th>\n",
       "      <th>sample_id</th>\n",
       "      <th>sample_batch</th>\n",
       "    </tr>\n",
       "  </thead>\n",
       "  <tbody>\n",
       "    <tr>\n",
       "      <th>0</th>\n",
       "      <td>52</td>\n",
       "      <td>2021-07-06</td>\n",
       "      <td>1 g</td>\n",
       "      <td>Downloaded</td>\n",
       "      <td>A</td>\n",
       "      <td>1</td>\n",
       "    </tr>\n",
       "    <tr>\n",
       "      <th>1</th>\n",
       "      <td>45</td>\n",
       "      <td>2021-09-08</td>\n",
       "      <td>1 g</td>\n",
       "      <td>Downloaded</td>\n",
       "      <td>B</td>\n",
       "      <td>1</td>\n",
       "    </tr>\n",
       "    <tr>\n",
       "      <th>2</th>\n",
       "      <td>48</td>\n",
       "      <td>2021-09-09</td>\n",
       "      <td>1 g</td>\n",
       "      <td>Downloaded</td>\n",
       "      <td>C</td>\n",
       "      <td>1</td>\n",
       "    </tr>\n",
       "  </tbody>\n",
       "</table>\n",
       "</div>"
      ],
      "text/plain": [
       "   volume date_processed_by_gsc amount fastqc_download_status sample_id  \\\n",
       "0      52            2021-07-06    1 g             Downloaded         A   \n",
       "1      45            2021-09-08    1 g             Downloaded         B   \n",
       "2      48            2021-09-09    1 g             Downloaded         C   \n",
       "\n",
       "  sample_batch  \n",
       "0            1  \n",
       "1            1  \n",
       "2            1  "
      ]
     },
     "execution_count": 18,
     "metadata": {},
     "output_type": "execute_result"
    }
   ],
   "source": [
    "df.head()"
   ]
  },
  {
   "cell_type": "markdown",
   "id": "bfd727a3-a53b-48a7-ba0a-a9ace6eb2dd8",
   "metadata": {
    "slideshow": {
     "slide_type": "slide"
    },
    "tags": []
   },
   "source": [
    "### An example visualization"
   ]
  },
  {
   "cell_type": "code",
   "execution_count": 19,
   "id": "6bdccffa-95f2-4681-97b6-b9b2f176c2a2",
   "metadata": {
    "slideshow": {
     "slide_type": "subslide"
    },
    "tags": []
   },
   "outputs": [
    {
     "data": {
      "image/png": "[encoded data removed]",
      "text/plain": [
       "<Figure size 432x288 with 1 Axes>"
      ]
     },
     "metadata": {
      "needs_background": "light"
     },
     "output_type": "display_data"
    }
   ],
   "source": [
    "df.plot(\"date_processed_by_gsc\",\"volume\",kind=\"bar\")\n",
    "plt.xticks(rotation=45);"
   ]
  },
  {
   "cell_type": "markdown",
   "id": "dd8e64af-5295-4a5e-82df-0271f44bf6b2",
   "metadata": {},
   "source": [
    "### Bulk Import of Sample Data from an Excel Sheet"
   ]
  },
  {
   "cell_type": "markdown",
   "id": "7b1a4d6c-0404-4df8-99cd-dceb9cb6f69d",
   "metadata": {},
   "source": [
    "So far we have seen an example how to import a single sample, however, it would be more convienent to import multiple samples at once. We can do that by reading a standard Excel sheet"
   ]
  },
  {
   "cell_type": "markdown",
   "id": "ae71601f-25c1-4b1a-87ef-9141d65e9c88",
   "metadata": {},
   "source": [
    "![example sheet](excel.png)"
   ]
  },
  {
   "cell_type": "code",
   "execution_count": 20,
   "id": "4960c8ee-08dd-459f-8872-5e29cdb6e78a",
   "metadata": {},
   "outputs": [
    {
     "data": {
      "text/html": [
       "<div>\n",
       "<style scoped>\n",
       "    .dataframe tbody tr th:only-of-type {\n",
       "        vertical-align: middle;\n",
       "    }\n",
       "\n",
       "    .dataframe tbody tr th {\n",
       "        vertical-align: top;\n",
       "    }\n",
       "\n",
       "    .dataframe thead th {\n",
       "        text-align: right;\n",
       "    }\n",
       "</style>\n",
       "<table border=\"1\" class=\"dataframe\">\n",
       "  <thead>\n",
       "    <tr style=\"text-align: right;\">\n",
       "      <th></th>\n",
       "      <th>sample_id</th>\n",
       "      <th>sample_batch</th>\n",
       "      <th>sample_tissue</th>\n",
       "      <th>sample_provenance</th>\n",
       "      <th>volume</th>\n",
       "      <th>concentration</th>\n",
       "      <th>amount</th>\n",
       "      <th>quantification_method</th>\n",
       "      <th>date_shipment_gsc</th>\n",
       "      <th>date_received_by_gsc</th>\n",
       "      <th>date_qced_by_gsc</th>\n",
       "      <th>qc_by_gsc_result</th>\n",
       "    </tr>\n",
       "  </thead>\n",
       "  <tbody>\n",
       "    <tr>\n",
       "      <th>0</th>\n",
       "      <td>A</td>\n",
       "      <td>1</td>\n",
       "      <td>blood</td>\n",
       "      <td>GSC</td>\n",
       "      <td>25</td>\n",
       "      <td>0.001</td>\n",
       "      <td>0.44</td>\n",
       "      <td>Illumina</td>\n",
       "      <td>2021-11-09</td>\n",
       "      <td>25/10/2021</td>\n",
       "      <td>2021-07-07</td>\n",
       "      <td>PASS</td>\n",
       "    </tr>\n",
       "    <tr>\n",
       "      <th>1</th>\n",
       "      <td>B</td>\n",
       "      <td>1</td>\n",
       "      <td>blood</td>\n",
       "      <td>GSC</td>\n",
       "      <td>25</td>\n",
       "      <td>0.001</td>\n",
       "      <td>0.50</td>\n",
       "      <td>Illumina</td>\n",
       "      <td>2021-11-09</td>\n",
       "      <td>25/10/2021</td>\n",
       "      <td>2021-12-08</td>\n",
       "      <td>PASS</td>\n",
       "    </tr>\n",
       "    <tr>\n",
       "      <th>2</th>\n",
       "      <td>C</td>\n",
       "      <td>1</td>\n",
       "      <td>blood</td>\n",
       "      <td>Alliance</td>\n",
       "      <td>24</td>\n",
       "      <td>0.001</td>\n",
       "      <td>0.52</td>\n",
       "      <td>Illumina</td>\n",
       "      <td>2021-11-09</td>\n",
       "      <td>25/10/2021</td>\n",
       "      <td>2021-11-10</td>\n",
       "      <td>PASS</td>\n",
       "    </tr>\n",
       "    <tr>\n",
       "      <th>3</th>\n",
       "      <td>D</td>\n",
       "      <td>1</td>\n",
       "      <td>blood</td>\n",
       "      <td>Alliance</td>\n",
       "      <td>23</td>\n",
       "      <td>0.001</td>\n",
       "      <td>0.39</td>\n",
       "      <td>Illumina</td>\n",
       "      <td>2021-11-09</td>\n",
       "      <td>25/10/2021</td>\n",
       "      <td>2021-12-10</td>\n",
       "      <td>PASS</td>\n",
       "    </tr>\n",
       "  </tbody>\n",
       "</table>\n",
       "</div>"
      ],
      "text/plain": [
       "  sample_id  sample_batch sample_tissue sample_provenance  volume  \\\n",
       "0         A             1         blood               GSC      25   \n",
       "1         B             1         blood               GSC      25   \n",
       "2         C             1         blood          Alliance      24   \n",
       "3         D             1         blood          Alliance      23   \n",
       "\n",
       "   concentration  amount quantification_method date_shipment_gsc  \\\n",
       "0          0.001    0.44              Illumina        2021-11-09   \n",
       "1          0.001    0.50              Illumina        2021-11-09   \n",
       "2          0.001    0.52              Illumina        2021-11-09   \n",
       "3          0.001    0.39              Illumina        2021-11-09   \n",
       "\n",
       "  date_received_by_gsc date_qced_by_gsc qc_by_gsc_result  \n",
       "0           25/10/2021       2021-07-07             PASS  \n",
       "1           25/10/2021       2021-12-08             PASS  \n",
       "2           25/10/2021       2021-11-10             PASS  \n",
       "3           25/10/2021       2021-12-10             PASS  "
      ]
     },
     "execution_count": 20,
     "metadata": {},
     "output_type": "execute_result"
    }
   ],
   "source": [
    "sheet = pd.read_excel(\"samples metadata.xlsx\",sheet_name=\"data\")\n",
    "sheet"
   ]
  },
  {
   "cell_type": "markdown",
   "id": "1f1dcc48-88ae-4ad2-a2ca-b71ff83c1512",
   "metadata": {},
   "source": [
    "after simple preprocessing"
   ]
  },
  {
   "cell_type": "code",
   "execution_count": 21,
   "id": "960c0abb-21ad-45e0-ae3b-d4cfac73e468",
   "metadata": {},
   "outputs": [],
   "source": [
    "for col in sheet.columns:\n",
    "    sheet[col] = sheet[col].astype('string')"
   ]
  },
  {
   "cell_type": "markdown",
   "id": "98f86356-26fc-4d55-9569-bc80969c0114",
   "metadata": {},
   "source": [
    "we can load the sample data in one loop"
   ]
  },
  {
   "cell_type": "code",
   "execution_count": 22,
   "id": "c4592e2e-7892-4cf7-86f9-6f6cf32392b9",
   "metadata": {},
   "outputs": [],
   "source": [
    "for i in range(sheet.shape[0]):\n",
    "    samples.update(query_id=sheet.sample_id[i],data={\"name\":sheet.sample_id[i],\"annotationSets\":\n",
    "                                 [{\"id\":\"demo2\",\"variableSetId\":\"sample_metadata\",\n",
    "                                   \"annotations\":{\"sample_id\":sheet.sample_id[i],\n",
    "                                                  \"sample_batch\":sheet.sample_batch[i],\n",
    "                                                  \"sample_tissue\":sheet.sample_tissue[i],\n",
    "                                                  \"sample_provenance\":sheet.sample_provenance[i],\n",
    "                                                  \"volume\":sheet.volume[i],\n",
    "                                                  \"concentration\":sheet.concentration[i],\n",
    "                                                  \"amount\":sheet.amount[i],\n",
    "                                                  \"quantification_method\":sheet.quantification_method[i],\n",
    "                                                  \"date_shipment_gsc\":sheet.date_shipment_gsc[i],\n",
    "                                                  \"date_received_by_gsc\":sheet.date_received_by_gsc[i],\n",
    "                                                  \"date_qced_by_gsc\":sheet.date_qced_by_gsc[i],\n",
    "                                                  \"qc_by_gsc_result\":sheet.qc_by_gsc_result[i]\n",
    "                                                  }}]},\n",
    "               annotationSetsAction=\"SET\")\n",
    "    sleep(0.05)"
   ]
  },
  {
   "cell_type": "code",
   "execution_count": 23,
   "id": "3a6b35db-859e-4626-ae67-2d543e063e51",
   "metadata": {},
   "outputs": [],
   "source": [
    "res = samples.info(query_id = \"A,B,C,D\",study=\"1kG_phase3\")"
   ]
  },
  {
   "cell_type": "code",
   "execution_count": 24,
   "id": "0b8ec1ab-0257-4697-aeb9-c8747dc348a6",
   "metadata": {},
   "outputs": [
    {
     "data": {
      "text/html": [
       "<div>\n",
       "<style scoped>\n",
       "    .dataframe tbody tr th:only-of-type {\n",
       "        vertical-align: middle;\n",
       "    }\n",
       "\n",
       "    .dataframe tbody tr th {\n",
       "        vertical-align: top;\n",
       "    }\n",
       "\n",
       "    .dataframe thead th {\n",
       "        text-align: right;\n",
       "    }\n",
       "</style>\n",
       "<table border=\"1\" class=\"dataframe\">\n",
       "  <thead>\n",
       "    <tr style=\"text-align: right;\">\n",
       "      <th></th>\n",
       "      <th>date_received_by_gsc</th>\n",
       "      <th>volume</th>\n",
       "      <th>amount</th>\n",
       "      <th>sample_provenance</th>\n",
       "      <th>qc_by_gsc_result</th>\n",
       "      <th>date_qced_by_gsc</th>\n",
       "      <th>sample_id</th>\n",
       "      <th>sample_tissue</th>\n",
       "      <th>date_shipment_gsc</th>\n",
       "      <th>concentration</th>\n",
       "      <th>sample_batch</th>\n",
       "      <th>quantification_method</th>\n",
       "    </tr>\n",
       "  </thead>\n",
       "  <tbody>\n",
       "    <tr>\n",
       "      <th>0</th>\n",
       "      <td>25/10/2021</td>\n",
       "      <td>25</td>\n",
       "      <td>0.44</td>\n",
       "      <td>GSC</td>\n",
       "      <td>PASS</td>\n",
       "      <td>2021-07-07</td>\n",
       "      <td>A</td>\n",
       "      <td>blood</td>\n",
       "      <td>2021-11-09</td>\n",
       "      <td>0.001</td>\n",
       "      <td>1</td>\n",
       "      <td>Illumina</td>\n",
       "    </tr>\n",
       "    <tr>\n",
       "      <th>1</th>\n",
       "      <td>25/10/2021</td>\n",
       "      <td>25</td>\n",
       "      <td>0.5</td>\n",
       "      <td>GSC</td>\n",
       "      <td>PASS</td>\n",
       "      <td>2021-12-08</td>\n",
       "      <td>B</td>\n",
       "      <td>blood</td>\n",
       "      <td>2021-11-09</td>\n",
       "      <td>0.001</td>\n",
       "      <td>1</td>\n",
       "      <td>Illumina</td>\n",
       "    </tr>\n",
       "    <tr>\n",
       "      <th>2</th>\n",
       "      <td>25/10/2021</td>\n",
       "      <td>24</td>\n",
       "      <td>0.52</td>\n",
       "      <td>Alliance</td>\n",
       "      <td>PASS</td>\n",
       "      <td>2021-11-10</td>\n",
       "      <td>C</td>\n",
       "      <td>blood</td>\n",
       "      <td>2021-11-09</td>\n",
       "      <td>0.001</td>\n",
       "      <td>1</td>\n",
       "      <td>Illumina</td>\n",
       "    </tr>\n",
       "    <tr>\n",
       "      <th>3</th>\n",
       "      <td>25/10/2021</td>\n",
       "      <td>23</td>\n",
       "      <td>0.39</td>\n",
       "      <td>Alliance</td>\n",
       "      <td>PASS</td>\n",
       "      <td>2021-12-10</td>\n",
       "      <td>D</td>\n",
       "      <td>blood</td>\n",
       "      <td>2021-11-09</td>\n",
       "      <td>0.001</td>\n",
       "      <td>1</td>\n",
       "      <td>Illumina</td>\n",
       "    </tr>\n",
       "  </tbody>\n",
       "</table>\n",
       "</div>"
      ],
      "text/plain": [
       "  date_received_by_gsc volume amount sample_provenance qc_by_gsc_result  \\\n",
       "0           25/10/2021     25   0.44               GSC             PASS   \n",
       "1           25/10/2021     25    0.5               GSC             PASS   \n",
       "2           25/10/2021     24   0.52          Alliance             PASS   \n",
       "3           25/10/2021     23   0.39          Alliance             PASS   \n",
       "\n",
       "  date_qced_by_gsc sample_id sample_tissue date_shipment_gsc concentration  \\\n",
       "0       2021-07-07         A         blood        2021-11-09         0.001   \n",
       "1       2021-12-08         B         blood        2021-11-09         0.001   \n",
       "2       2021-11-10         C         blood        2021-11-09         0.001   \n",
       "3       2021-12-10         D         blood        2021-11-09         0.001   \n",
       "\n",
       "  sample_batch quantification_method  \n",
       "0            1              Illumina  \n",
       "1            1              Illumina  \n",
       "2            1              Illumina  \n",
       "3            1              Illumina  "
      ]
     },
     "execution_count": 24,
     "metadata": {},
     "output_type": "execute_result"
    }
   ],
   "source": [
    "ds = [get_sample_details(r).unwrap_or('NA') for r in res.results()]\n",
    "df = pd.DataFrame(ds)\n",
    "df.head()"
   ]
  },
  {
   "cell_type": "code",
   "execution_count": null,
   "id": "da556a97-b772-486e-b5e1-d5584049114f",
   "metadata": {},
   "outputs": [],
   "source": []
  }
 ],
 "metadata": {
  "kernelspec": {
   "display_name": "Bioinfo",
   "language": "python",
   "name": "bioinfo"
  },
  "language_info": {
   "codemirror_mode": {
    "name": "ipython",
    "version": 3
   },
   "file_extension": ".py",
   "mimetype": "text/x-python",
   "name": "python",
   "nbconvert_exporter": "python",
   "pygments_lexer": "ipython3",
   "version": "3.8.2"
  }
 },
 "nbformat": 4,
 "nbformat_minor": 5
}
